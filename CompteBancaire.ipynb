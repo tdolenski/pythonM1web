{
 "cells": [
  {
   "cell_type": "code",
   "execution_count": 13,
   "metadata": {},
   "outputs": [
    {
     "name": "stdout",
     "output_type": "stream",
     "text": [
      "Le solde du compte bancaire de Dupont est de 950 €\n"
     ]
    }
   ],
   "source": [
    "#Class\n",
    "class CompteBancaire:\n",
    "    #Constructeur\n",
    "    def __init__(self):\n",
    "        self.nom = \"Dupont\"\n",
    "        self.somme = 800\n",
    "    \n",
    "    #Retrait\n",
    "    def retrait(self, montant):\n",
    "        self.somme -= montant\n",
    "    \n",
    "    #Depot\n",
    "    def depot(self, montant):\n",
    "        self.somme += montant\n",
    "    \n",
    "    #Affiche\n",
    "    def affiche(self):\n",
    "        print(\"Le solde du compte bancaire de\", self.nom , \"est de\" , self.somme, \"€\")\n",
    "        \n",
    "compte1 = CompteBancaire()\n",
    "compte1.retrait(200)\n",
    "compte1.depot(350)\n",
    "compte1.affiche()"
   ]
  },
  {
   "cell_type": "code",
   "execution_count": null,
   "metadata": {},
   "outputs": [],
   "source": []
  }
 ],
 "metadata": {
  "kernelspec": {
   "display_name": "Python 3",
   "language": "python",
   "name": "python3"
  },
  "language_info": {
   "codemirror_mode": {
    "name": "ipython",
    "version": 3
   },
   "file_extension": ".py",
   "mimetype": "text/x-python",
   "name": "python",
   "nbconvert_exporter": "python",
   "pygments_lexer": "ipython3",
   "version": "3.7.6"
  }
 },
 "nbformat": 4,
 "nbformat_minor": 4
}

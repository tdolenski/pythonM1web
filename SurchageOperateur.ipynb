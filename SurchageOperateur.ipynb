{
 "cells": [
  {
   "cell_type": "code",
   "execution_count": 37,
   "metadata": {},
   "outputs": [
    {
     "name": "stdout",
     "output_type": "stream",
     "text": [
      "P(2,3)\n",
      "P(1,-5,6)\n"
     ]
    }
   ],
   "source": [
    "class Point:\n",
    "    #Constructeur\n",
    "    def __init__(self, x, y, z=None):\n",
    "        self.x = x\n",
    "        self.y = y\n",
    "        self.z = z\n",
    "         \n",
    "    #Méthodes   \n",
    "    def ToString(self):\n",
    "        if self.z == None:\n",
    "            print(\"P(\", self.x, \",\", self.y, \")\", sep = \"\", )\n",
    "        else:\n",
    "            print(\"P(\", self.x, \",\", self.y, \",\", self.z, \")\", sep = \"\", )\n",
    "            \n",
    "p1 = Point(2,3)\n",
    "p1.ToString()\n",
    "p2 = Point(1,-5,6)\n",
    "p2.ToString()\n",
    "        \n",
    "    \n",
    "    "
   ]
  },
  {
   "cell_type": "code",
   "execution_count": null,
   "metadata": {},
   "outputs": [],
   "source": []
  },
  {
   "cell_type": "code",
   "execution_count": null,
   "metadata": {},
   "outputs": [],
   "source": []
  }
 ],
 "metadata": {
  "kernelspec": {
   "display_name": "Python 3",
   "language": "python",
   "name": "python3"
  },
  "language_info": {
   "codemirror_mode": {
    "name": "ipython",
    "version": 3
   },
   "file_extension": ".py",
   "mimetype": "text/x-python",
   "name": "python",
   "nbconvert_exporter": "python",
   "pygments_lexer": "ipython3",
   "version": "3.7.6"
  }
 },
 "nbformat": 4,
 "nbformat_minor": 4
}
